{
 "cells": [
  {
   "cell_type": "markdown",
   "id": "b12763a9",
   "metadata": {},
   "source": [
    "***GENERATED CODE FOR 10maypbis PIPELINE.***"
   ]
  },
  {
   "cell_type": "markdown",
   "id": "d1016a27",
   "metadata": {},
   "source": [
    "***DON'T EDIT THIS CODE.***"
   ]
  },
  {
   "cell_type": "markdown",
   "id": "48b710ed",
   "metadata": {},
   "source": [
    "***CONNECTOR FUNCTIONS TO READ DATA.***"
   ]
  },
  {
   "cell_type": "code",
   "execution_count": null,
   "id": "068b9540",
   "metadata": {},
   "outputs": [],
   "source": [
    "from hdfs3 import HDFileSystem\n",
    "import datetime\n",
    "import logging\n",
    "import warnings\n",
    "warnings.filterwarnings('ignore')\n",
    "logging.basicConfig(format='%(levelname)s:%(message)s', level=logging.INFO)\n",
    "\n",
    "\n",
    "class HDFSConnector:\n",
    "\n",
    "    def fetch(spark, config):\n",
    "        ################### INPUT HADOOP HOST PORT TO CONNECT WITH ###############################\n",
    "        hdfs = HDFileSystem(\n",
    "            host=eval(config)['host'], port=eval(config)['port'])\n",
    "        with hdfs.open(eval(config)['url']) as f:\n",
    "            df = pd.read_csv(f, error_bad_lines=False)\n",
    "        df = spark.createDataFrame(dfPd)\n",
    "        display(df.limit(2).toPandas())\n",
    "        return df\n",
    "\n",
    "    def put(df, spark, config):\n",
    "        return df.write.format('csv').options(header='true' if eval(config)[\"is_header\"] == \"Use Header Line\" else 'false',\n",
    "                                              delimiter=eval(config)[\"delimiter\"]).save((\"%s %s\") % (datetime.datetime.now().strftime(\"%Y-%m-%d %H.%M.%S\")+\"_\", eval(config)['url']))\n"
   ]
  },
  {
   "cell_type": "markdown",
   "id": "063b7481",
   "metadata": {},
   "source": [
    "***OPERATION FUNCTIONS***"
   ]
  },
  {
   "cell_type": "code",
   "execution_count": null,
   "id": "3ae9e84d",
   "metadata": {},
   "outputs": [],
   "source": [
    "# No Function Applied in Data Prep\n"
   ]
  },
  {
   "cell_type": "markdown",
   "id": "8f476f2b",
   "metadata": {},
   "source": [
    "***CONNECTOR FUNCTIONS TO WRITE DATA.***"
   ]
  },
  {
   "cell_type": "code",
   "execution_count": null,
   "id": "ef52a50b",
   "metadata": {},
   "outputs": [],
   "source": [
    "import datetime\n",
    "import requests\n",
    "import datetime\n",
    "import logging\n",
    "import warnings\n",
    "warnings.filterwarnings('ignore')\n",
    "logging.basicConfig(format='%(levelname)s:%(message)s', level=logging.INFO)\n",
    "\n",
    "\n",
    "class NumtraConnector:\n",
    "\n",
    "    def put(inStages, inStagesData, stageId, spark, config):\n",
    "        path = eval(config)['server_url']\n",
    "        baseType = eval(config)['baseType']\n",
    "        results_url = eval(config)['results_url']\n",
    "        server = eval(config)['server']\n",
    "        originalfile = eval(config)['orignalKey']\n",
    "        eval(config)['pathOnly']\n",
    "        filename = eval(config)['filename']\n",
    "        eval(config)['ser']\n",
    "        eval(config)['user']\n",
    "        eval(config)['password']\n",
    "        eval(config)['authSource']\n",
    "        eval(config)['user_id']\n",
    "        eval(config)['parent_id']\n",
    "        eval(config)['project_id']\n",
    "        time = str(int(datetime.datetime.now().timestamp()))\n",
    "\n",
    "        inStagesData[inStages[0]]\n",
    "\n",
    "        print(path)\n",
    "        print(baseType)\n",
    "        print(results_url)\n",
    "        print(server)\n",
    "        print(originalfile)\n",
    "        print(filename)\n",
    "\n",
    "        args = {\n",
    "            'url': path,\n",
    "            'baseType': baseType,\n",
    "            'originalfile': originalfile,\n",
    "            'filename': time + filename\n",
    "        }\n",
    "\n",
    "        response = requests.post(results_url, args)\n",
    "        return response\n"
   ]
  },
  {
   "cell_type": "markdown",
   "id": "05d44799",
   "metadata": {},
   "source": [
    "***READING DATAFRAME***"
   ]
  },
  {
   "cell_type": "code",
   "execution_count": null,
   "id": "7511b442",
   "metadata": {},
   "outputs": [],
   "source": [
    "############## CREATE SPARK SESSION ############################ ENTER YOUR SPARK MASTER IP AND PORT TO CONNECT TO SERVER ################from pyspark.sql import SparkSession\n",
    "spark = SparkSession.builder.master('spark://0.0.0.0:0000').getOrCreate()\n",
    "#%run 10maypbisHooks.ipynb\n",
    "try:\n",
    "\t#sourcePreExecutionHook()\n",
    "\n",
    "\tmaybankpbi = HDFSConnector.fetch(spark, \"{'url': '/FileStore/platform/uploadedSourceFiles/tempFile8MayBostonEx_test1683703316.csv', 'filename': '168370331910MayBankPBI', 'delimiter': ',', 'file_type': 'Delimeted', 'dbfs_token': '', 'dbfs_domain': '', 'FilePath': '/PBITest/10MayBankPBI', 'viewFileName': '10MayBankPBI', 'is_header': 'Use Header Line', 'baseType': 'hdfs', 'server_url': '/numtraPlatform/NumtraPlatformV3/uploads/platform/', 'results_url': 'http://dev.numtra.com:4040/api/read/hdfs'}\")\n",
    "\n",
    "except Exception as ex: \n",
    "\tlogging.error(ex)\n"
   ]
  },
  {
   "cell_type": "markdown",
   "id": "1c9a027b",
   "metadata": {},
   "source": [
    "***PERFORMING OPERATIONS***"
   ]
  },
  {
   "cell_type": "code",
   "execution_count": null,
   "id": "e9de92dd",
   "metadata": {},
   "outputs": [],
   "source": [
    "#%run 10maypbisHooks.ipynb\n",
    "try:\n",
    "\t#operationPreExecutionHook()\n",
    "\n",
    "# No Function Applied in Data Prep\n",
    "datapreparation = maybankpbi\n",
    "\t#operationPostExecutionHook(datapreparation)\n",
    "\n",
    "except Exception as ex: \n",
    "\tlogging.error(ex)\n"
   ]
  },
  {
   "cell_type": "markdown",
   "id": "6c72bfa1",
   "metadata": {},
   "source": [
    "***WRITING DATAFRAME***"
   ]
  },
  {
   "cell_type": "code",
   "execution_count": null,
   "id": "1da31b54",
   "metadata": {},
   "outputs": [],
   "source": [
    "#%run 10maypbisHooks.ipynb\n",
    "try:\n",
    "\t#sinkPreExecutionHook()\n",
    "\n",
    "\tdatapipelineoutput = NumtraConnector.fetch(spark, \"{'samplefile': '/FileStore/platform/sampleData/645b4f5e429cd6243b3ff8b3/part-00000-bbc0ab68-d281-4a95-8814-d758f1688eb0-c000.csv', 'samplecount': 1075, 'originalcount': 11138, 'orignalKey': '/FileStore/platform/uploadedSourceFiles/tempFile8MayBostonEx_test1683703316.csv', 'pathOnly': '/dataPipeline', 'project_id': '63c0fe048b96720de22fd1f9', 'parent_id': '63c0fe048b96720de22fd1f9', 'original_schema': [{'checked': True, 'inherited': True, 'is_categorical': False, 'bad_values': '', 'nullable': 'true', 'field': 'Bank_Deposit_Analysis_TrainData[age]', 'alias': 'Bank_Deposit_Analysis_TrainData[age]', 'type': 'numeric', 'position': '0'}, {'checked': True, 'inherited': True, 'is_categorical': False, 'bad_values': '', 'nullable': 'true', 'field': 'Bank_Deposit_Analysis_TrainData[job]', 'alias': 'Bank_Deposit_Analysis_TrainData[job]', 'type': 'String', 'position': '1'}, {'checked': True, 'inherited': True, 'is_categorical': False, 'bad_values': '', 'nullable': 'true', 'field': 'Bank_Deposit_Analysis_TrainData[marital]', 'alias': 'Bank_Deposit_Analysis_TrainData[marital]', 'type': 'String', 'position': '2'}, {'checked': True, 'inherited': True, 'is_categorical': False, 'bad_values': '', 'nullable': 'true', 'field': 'Bank_Deposit_Analysis_TrainData[education]', 'alias': 'Bank_Deposit_Analysis_TrainData[education]', 'type': 'String', 'position': '3'}, {'checked': True, 'inherited': True, 'is_categorical': False, 'bad_values': '', 'nullable': 'true', 'field': 'Bank_Deposit_Analysis_TrainData[default]', 'alias': 'Bank_Deposit_Analysis_TrainData[default]', 'type': 'numeric', 'position': '4'}, {'checked': True, 'inherited': True, 'is_categorical': False, 'bad_values': '', 'nullable': 'true', 'field': 'Bank_Deposit_Analysis_TrainData[balance]', 'alias': 'Bank_Deposit_Analysis_TrainData[balance]', 'type': 'numeric', 'position': '5'}, {'checked': True, 'inherited': True, 'is_categorical': False, 'bad_values': '', 'nullable': 'true', 'field': 'Bank_Deposit_Analysis_TrainData[housing]', 'alias': 'Bank_Deposit_Analysis_TrainData[housing]', 'type': 'numeric', 'position': '6'}, {'checked': True, 'inherited': True, 'is_categorical': False, 'bad_values': '', 'nullable': 'true', 'field': 'Bank_Deposit_Analysis_TrainData[loan]', 'alias': 'Bank_Deposit_Analysis_TrainData[loan]', 'type': 'numeric', 'position': '7'}, {'checked': True, 'inherited': True, 'is_categorical': False, 'bad_values': '', 'nullable': 'true', 'field': 'Bank_Deposit_Analysis_TrainData[contact]', 'alias': 'Bank_Deposit_Analysis_TrainData[contact]', 'type': 'String', 'position': '8'}, {'checked': True, 'inherited': True, 'is_categorical': False, 'bad_values': '', 'nullable': 'true', 'field': 'Bank_Deposit_Analysis_TrainData[day]', 'alias': 'Bank_Deposit_Analysis_TrainData[day]', 'type': 'numeric', 'position': '9'}, {'checked': True, 'inherited': True, 'is_categorical': False, 'bad_values': '', 'nullable': 'true', 'field': 'Bank_Deposit_Analysis_TrainData[month]', 'alias': 'Bank_Deposit_Analysis_TrainData[month]', 'type': 'String', 'position': '10'}, {'checked': True, 'inherited': True, 'is_categorical': False, 'bad_values': '', 'nullable': 'true', 'field': 'Bank_Deposit_Analysis_TrainData[duration]', 'alias': 'Bank_Deposit_Analysis_TrainData[duration]', 'type': 'numeric', 'position': '11'}, {'checked': True, 'inherited': True, 'is_categorical': False, 'bad_values': '', 'nullable': 'true', 'field': 'Bank_Deposit_Analysis_TrainData[campaign]', 'alias': 'Bank_Deposit_Analysis_TrainData[campaign]', 'type': 'numeric', 'position': '12'}, {'checked': True, 'inherited': True, 'is_categorical': False, 'bad_values': '', 'nullable': 'true', 'field': 'Bank_Deposit_Analysis_TrainData[pdays]', 'alias': 'Bank_Deposit_Analysis_TrainData[pdays]', 'type': 'numeric', 'position': '13'}, {'checked': True, 'inherited': True, 'is_categorical': False, 'bad_values': '', 'nullable': 'true', 'field': 'Bank_Deposit_Analysis_TrainData[previous]', 'alias': 'Bank_Deposit_Analysis_TrainData[previous]', 'type': 'numeric', 'position': '14'}, {'checked': True, 'inherited': True, 'is_categorical': False, 'bad_values': '', 'nullable': 'true', 'field': 'Bank_Deposit_Analysis_TrainData[poutcome]', 'alias': 'Bank_Deposit_Analysis_TrainData[poutcome]', 'type': 'String', 'position': '15'}, {'checked': True, 'inherited': True, 'is_categorical': False, 'bad_values': '', 'nullable': 'true', 'field': 'Bank_Deposit_Analysis_TrainData[deposit]', 'alias': 'Bank_Deposit_Analysis_TrainData[deposit]', 'type': 'numeric', 'position': '16'}], 'actual_schema': [{'checked': True, 'inherited': True, 'is_categorical': False, 'bad_values': '', 'nullable': 'true', 'field': 'Bank_Deposit_Analysis_TrainData[age]', 'alias': 'Bank_Deposit_Analysis_TrainData[age]', 'type': 'numeric', 'position': '0'}, {'checked': True, 'inherited': True, 'is_categorical': False, 'bad_values': '', 'nullable': 'true', 'field': 'Bank_Deposit_Analysis_TrainData[job]', 'alias': 'Bank_Deposit_Analysis_TrainData[job]', 'type': 'String', 'position': '1'}, {'checked': True, 'inherited': True, 'is_categorical': False, 'bad_values': '', 'nullable': 'true', 'field': 'Bank_Deposit_Analysis_TrainData[marital]', 'alias': 'Bank_Deposit_Analysis_TrainData[marital]', 'type': 'String', 'position': '2'}, {'checked': True, 'inherited': True, 'is_categorical': False, 'bad_values': '', 'nullable': 'true', 'field': 'Bank_Deposit_Analysis_TrainData[education]', 'alias': 'Bank_Deposit_Analysis_TrainData[education]', 'type': 'String', 'position': '3'}, {'checked': True, 'inherited': True, 'is_categorical': False, 'bad_values': '', 'nullable': 'true', 'field': 'Bank_Deposit_Analysis_TrainData[default]', 'alias': 'Bank_Deposit_Analysis_TrainData[default]', 'type': 'numeric', 'position': '4'}, {'checked': True, 'inherited': True, 'is_categorical': False, 'bad_values': '', 'nullable': 'true', 'field': 'Bank_Deposit_Analysis_TrainData[balance]', 'alias': 'Bank_Deposit_Analysis_TrainData[balance]', 'type': 'numeric', 'position': '5'}, {'checked': True, 'inherited': True, 'is_categorical': False, 'bad_values': '', 'nullable': 'true', 'field': 'Bank_Deposit_Analysis_TrainData[housing]', 'alias': 'Bank_Deposit_Analysis_TrainData[housing]', 'type': 'numeric', 'position': '6'}, {'checked': True, 'inherited': True, 'is_categorical': False, 'bad_values': '', 'nullable': 'true', 'field': 'Bank_Deposit_Analysis_TrainData[loan]', 'alias': 'Bank_Deposit_Analysis_TrainData[loan]', 'type': 'numeric', 'position': '7'}, {'checked': True, 'inherited': True, 'is_categorical': False, 'bad_values': '', 'nullable': 'true', 'field': 'Bank_Deposit_Analysis_TrainData[contact]', 'alias': 'Bank_Deposit_Analysis_TrainData[contact]', 'type': 'String', 'position': '8'}, {'checked': True, 'inherited': True, 'is_categorical': False, 'bad_values': '', 'nullable': 'true', 'field': 'Bank_Deposit_Analysis_TrainData[day]', 'alias': 'Bank_Deposit_Analysis_TrainData[day]', 'type': 'numeric', 'position': '9'}, {'checked': True, 'inherited': True, 'is_categorical': False, 'bad_values': '', 'nullable': 'true', 'field': 'Bank_Deposit_Analysis_TrainData[month]', 'alias': 'Bank_Deposit_Analysis_TrainData[month]', 'type': 'String', 'position': '10'}, {'checked': True, 'inherited': True, 'is_categorical': False, 'bad_values': '', 'nullable': 'true', 'field': 'Bank_Deposit_Analysis_TrainData[duration]', 'alias': 'Bank_Deposit_Analysis_TrainData[duration]', 'type': 'numeric', 'position': '11'}, {'checked': True, 'inherited': True, 'is_categorical': False, 'bad_values': '', 'nullable': 'true', 'field': 'Bank_Deposit_Analysis_TrainData[campaign]', 'alias': 'Bank_Deposit_Analysis_TrainData[campaign]', 'type': 'numeric', 'position': '12'}, {'checked': True, 'inherited': True, 'is_categorical': False, 'bad_values': '', 'nullable': 'true', 'field': 'Bank_Deposit_Analysis_TrainData[pdays]', 'alias': 'Bank_Deposit_Analysis_TrainData[pdays]', 'type': 'numeric', 'position': '13'}, {'checked': True, 'inherited': True, 'is_categorical': False, 'bad_values': '', 'nullable': 'true', 'field': 'Bank_Deposit_Analysis_TrainData[previous]', 'alias': 'Bank_Deposit_Analysis_TrainData[previous]', 'type': 'numeric', 'position': '14'}, {'checked': True, 'inherited': True, 'is_categorical': False, 'bad_values': '', 'nullable': 'true', 'field': 'Bank_Deposit_Analysis_TrainData[poutcome]', 'alias': 'Bank_Deposit_Analysis_TrainData[poutcome]', 'type': 'String', 'position': '15'}, {'checked': True, 'inherited': True, 'is_categorical': False, 'bad_values': '', 'nullable': 'true', 'field': 'Bank_Deposit_Analysis_TrainData[deposit]', 'alias': 'Bank_Deposit_Analysis_TrainData[deposit]', 'type': 'numeric', 'position': '16'}], 'server': 'https://dev.numtra.com:443', 'server_url': '/numtraPlatform/NumtraPlatformV3/uploads/platform/', 'delimiter': ',', 'file_type': 'Delimeted', 'filename': '10MayPBIO.csv', 'token': '', 'domain': '', 'is_header': 'Use Header Line', 'url': '/FileStore/platform/uploadedSourceFiles/part-00000-712f266f-94b4-4c08-9246-1707b9f4bcb0-c000.csv', 'results_url': 'http://dev.numtra.com:4040/api/read/hdfs'}\")\n",
    "\n",
    "except Exception as ex: \n",
    "\tlogging.error(ex)\n"
   ]
  }
 ],
 "metadata": {},
 "nbformat": 4,
 "nbformat_minor": 5
}
